{
 "cells": [
  {
   "cell_type": "markdown",
   "metadata": {},
   "source": [
    "# Time series classification"
   ]
  },
  {
   "cell_type": "code",
   "execution_count": 1,
   "metadata": {},
   "outputs": [
    {
     "name": "stdout",
     "output_type": "stream",
     "text": [
      "Requirement already satisfied: torch in /opt/anaconda3/lib/python3.11/site-packages (2.3.0)\n",
      "Requirement already satisfied: filelock in /opt/anaconda3/lib/python3.11/site-packages (from torch) (3.13.1)\n",
      "Requirement already satisfied: typing-extensions>=4.8.0 in /opt/anaconda3/lib/python3.11/site-packages (from torch) (4.9.0)\n",
      "Requirement already satisfied: sympy in /opt/anaconda3/lib/python3.11/site-packages (from torch) (1.12)\n",
      "Requirement already satisfied: networkx in /opt/anaconda3/lib/python3.11/site-packages (from torch) (3.1)\n",
      "Requirement already satisfied: jinja2 in /opt/anaconda3/lib/python3.11/site-packages (from torch) (3.1.3)\n",
      "Requirement already satisfied: fsspec in /opt/anaconda3/lib/python3.11/site-packages (from torch) (2023.10.0)\n",
      "Requirement already satisfied: MarkupSafe>=2.0 in /opt/anaconda3/lib/python3.11/site-packages (from jinja2->torch) (2.1.3)\n",
      "Requirement already satisfied: mpmath>=0.19 in /opt/anaconda3/lib/python3.11/site-packages (from sympy->torch) (1.3.0)\n"
     ]
    }
   ],
   "source": [
    "!pip install torch\n"
   ]
  },
  {
   "cell_type": "code",
   "execution_count": 2,
   "metadata": {},
   "outputs": [
    {
     "name": "stdout",
     "output_type": "stream",
     "text": [
      "Requirement already satisfied: numpy in /opt/anaconda3/lib/python3.11/site-packages (1.26.4)\n"
     ]
    }
   ],
   "source": [
    "!pip install numpy"
   ]
  },
  {
   "cell_type": "code",
   "execution_count": 1,
   "metadata": {
    "scrolled": true
   },
   "outputs": [
    {
     "name": "stdout",
     "output_type": "stream",
     "text": [
      "Downloading Adiac (Attempt 1/3)\n",
      "Extracting Adiac data\n",
      "Archive:  data/Adiac.zip\n",
      "Downloading Beef (Attempt 1/3)\n"
     ]
    },
    {
     "name": "stderr",
     "output_type": "stream",
     "text": [
      "replace data/Adiac.txt? [y]es, [n]o, [A]ll, [N]one, [r]ename:  NULL\n",
      "(EOF or read error, treating as \"[N]one\" ...)\n"
     ]
    },
    {
     "name": "stdout",
     "output_type": "stream",
     "text": [
      "Extracting Beef data\n",
      "Archive:  data/Beef.zip\n",
      "Downloading CBF (Attempt 1/3)\n"
     ]
    },
    {
     "name": "stderr",
     "output_type": "stream",
     "text": [
      "replace data/Beef.txt? [y]es, [n]o, [A]ll, [N]one, [r]ename:  NULL\n",
      "(EOF or read error, treating as \"[N]one\" ...)\n"
     ]
    },
    {
     "name": "stdout",
     "output_type": "stream",
     "text": [
      "Extracting CBF data\n",
      "Archive:  data/CBF.zip\n",
      "Downloading ChlorineConcentration (Attempt 1/3)\n"
     ]
    },
    {
     "name": "stderr",
     "output_type": "stream",
     "text": [
      "replace data/CBF.txt? [y]es, [n]o, [A]ll, [N]one, [r]ename:  NULL\n",
      "(EOF or read error, treating as \"[N]one\" ...)\n"
     ]
    },
    {
     "name": "stdout",
     "output_type": "stream",
     "text": [
      "Extracting ChlorineConcentration data\n",
      "Archive:  data/ChlorineConcentration.zip\n",
      "Downloading CinCECGTorso (Attempt 1/3)\n"
     ]
    },
    {
     "name": "stderr",
     "output_type": "stream",
     "text": [
      "replace data/ChlorineConcentration.txt? [y]es, [n]o, [A]ll, [N]one, [r]ename:  NULL\n",
      "(EOF or read error, treating as \"[N]one\" ...)\n"
     ]
    },
    {
     "name": "stdout",
     "output_type": "stream",
     "text": [
      "Extracting CinCECGTorso data\n",
      "Archive:  data/CinCECGTorso.zip\n",
      "Downloading Coffee (Attempt 1/3)\n"
     ]
    },
    {
     "name": "stderr",
     "output_type": "stream",
     "text": [
      "replace data/CinCECGTorso.txt? [y]es, [n]o, [A]ll, [N]one, [r]ename:  NULL\n",
      "(EOF or read error, treating as \"[N]one\" ...)\n"
     ]
    },
    {
     "name": "stdout",
     "output_type": "stream",
     "text": [
      "Extracting Coffee data\n",
      "Archive:  data/Coffee.zip\n",
      "Downloading CricketX (Attempt 1/3)\n"
     ]
    },
    {
     "name": "stderr",
     "output_type": "stream",
     "text": [
      "replace data/Coffee.txt? [y]es, [n]o, [A]ll, [N]one, [r]ename:  NULL\n",
      "(EOF or read error, treating as \"[N]one\" ...)\n"
     ]
    },
    {
     "name": "stdout",
     "output_type": "stream",
     "text": [
      "Extracting CricketX data\n",
      "Archive:  data/CricketX.zip\n",
      "Downloading CricketY (Attempt 1/3)\n"
     ]
    },
    {
     "name": "stderr",
     "output_type": "stream",
     "text": [
      "replace data/CricketX.txt? [y]es, [n]o, [A]ll, [N]one, [r]ename:  NULL\n",
      "(EOF or read error, treating as \"[N]one\" ...)\n"
     ]
    },
    {
     "name": "stdout",
     "output_type": "stream",
     "text": [
      "Extracting CricketY data\n",
      "Archive:  data/CricketY.zip\n",
      "Downloading CricketZ (Attempt 1/3)\n"
     ]
    },
    {
     "name": "stderr",
     "output_type": "stream",
     "text": [
      "replace data/CricketY.txt? [y]es, [n]o, [A]ll, [N]one, [r]ename:  NULL\n",
      "(EOF or read error, treating as \"[N]one\" ...)\n"
     ]
    },
    {
     "name": "stdout",
     "output_type": "stream",
     "text": [
      "Extracting CricketZ data\n",
      "Archive:  data/CricketZ.zip\n",
      "Downloading DiatomSizeReduction (Attempt 1/3)\n"
     ]
    },
    {
     "name": "stderr",
     "output_type": "stream",
     "text": [
      "replace data/CricketZ.txt? [y]es, [n]o, [A]ll, [N]one, [r]ename:  NULL\n",
      "(EOF or read error, treating as \"[N]one\" ...)\n"
     ]
    },
    {
     "name": "stdout",
     "output_type": "stream",
     "text": [
      "Extracting DiatomSizeReduction data\n",
      "Archive:  data/DiatomSizeReduction.zip\n",
      "Downloading ECGFiveDays (Attempt 1/3)\n"
     ]
    },
    {
     "name": "stderr",
     "output_type": "stream",
     "text": [
      "replace data/DiatomSizeReduction.txt? [y]es, [n]o, [A]ll, [N]one, [r]ename:  NULL\n",
      "(EOF or read error, treating as \"[N]one\" ...)\n"
     ]
    },
    {
     "name": "stdout",
     "output_type": "stream",
     "text": [
      "Extracting ECGFiveDays data\n",
      "Archive:  data/ECGFiveDays.zip\n",
      "Downloading FaceAll (Attempt 1/3)\n"
     ]
    },
    {
     "name": "stderr",
     "output_type": "stream",
     "text": [
      "replace data/ECGFiveDays.txt? [y]es, [n]o, [A]ll, [N]one, [r]ename:  NULL\n",
      "(EOF or read error, treating as \"[N]one\" ...)\n"
     ]
    },
    {
     "name": "stdout",
     "output_type": "stream",
     "text": [
      "Extracting FaceAll data\n",
      "Archive:  data/FaceAll.zip\n",
      "Downloading FaceFour (Attempt 1/3)\n"
     ]
    },
    {
     "name": "stderr",
     "output_type": "stream",
     "text": [
      "replace data/FaceAll.txt? [y]es, [n]o, [A]ll, [N]one, [r]ename:  NULL\n",
      "(EOF or read error, treating as \"[N]one\" ...)\n"
     ]
    },
    {
     "name": "stdout",
     "output_type": "stream",
     "text": [
      "Extracting FaceFour data\n",
      "Archive:  data/FaceFour.zip\n",
      "Downloading FacesUCR (Attempt 1/3)\n"
     ]
    },
    {
     "name": "stderr",
     "output_type": "stream",
     "text": [
      "replace data/FaceFour.txt? [y]es, [n]o, [A]ll, [N]one, [r]ename:  NULL\n",
      "(EOF or read error, treating as \"[N]one\" ...)\n"
     ]
    },
    {
     "name": "stdout",
     "output_type": "stream",
     "text": [
      "Extracting FacesUCR data\n",
      "Archive:  data/FacesUCR.zip\n",
      "Downloading FiftyWords (Attempt 1/3)\n"
     ]
    },
    {
     "name": "stderr",
     "output_type": "stream",
     "text": [
      "replace data/FacesUCR.txt? [y]es, [n]o, [A]ll, [N]one, [r]ename:  NULL\n",
      "(EOF or read error, treating as \"[N]one\" ...)\n"
     ]
    },
    {
     "name": "stdout",
     "output_type": "stream",
     "text": [
      "Extracting FiftyWords data\n",
      "Archive:  data/FiftyWords.zip\n",
      "Downloading Fish (Attempt 1/3)\n"
     ]
    },
    {
     "name": "stderr",
     "output_type": "stream",
     "text": [
      "replace data/FiftyWords.txt? [y]es, [n]o, [A]ll, [N]one, [r]ename:  NULL\n",
      "(EOF or read error, treating as \"[N]one\" ...)\n"
     ]
    },
    {
     "name": "stdout",
     "output_type": "stream",
     "text": [
      "Extracting Fish data\n",
      "Archive:  data/Fish.zip\n",
      "Downloading GunPoint (Attempt 1/3)\n"
     ]
    },
    {
     "name": "stderr",
     "output_type": "stream",
     "text": [
      "replace data/Fish.txt? [y]es, [n]o, [A]ll, [N]one, [r]ename:  NULL\n",
      "(EOF or read error, treating as \"[N]one\" ...)\n"
     ]
    },
    {
     "name": "stdout",
     "output_type": "stream",
     "text": [
      "Extracting GunPoint data\n",
      "Archive:  data/GunPoint.zip\n",
      "Downloading Haptics (Attempt 1/3)\n"
     ]
    },
    {
     "name": "stderr",
     "output_type": "stream",
     "text": [
      "replace data/GunPoint.txt? [y]es, [n]o, [A]ll, [N]one, [r]ename:  NULL\n",
      "(EOF or read error, treating as \"[N]one\" ...)\n"
     ]
    },
    {
     "name": "stdout",
     "output_type": "stream",
     "text": [
      "Extracting Haptics data\n",
      "Archive:  data/Haptics.zip\n",
      "Downloading InlineSkate (Attempt 1/3)\n"
     ]
    },
    {
     "name": "stderr",
     "output_type": "stream",
     "text": [
      "replace data/Haptics.txt? [y]es, [n]o, [A]ll, [N]one, [r]ename:  NULL\n",
      "(EOF or read error, treating as \"[N]one\" ...)\n"
     ]
    },
    {
     "name": "stdout",
     "output_type": "stream",
     "text": [
      "Extracting InlineSkate data\n",
      "Archive:  data/InlineSkate.zip\n",
      "Downloading ItalyPowerDemand (Attempt 1/3)\n"
     ]
    },
    {
     "name": "stderr",
     "output_type": "stream",
     "text": [
      "replace data/InlineSkate.txt? [y]es, [n]o, [A]ll, [N]one, [r]ename:  NULL\n",
      "(EOF or read error, treating as \"[N]one\" ...)\n"
     ]
    },
    {
     "name": "stdout",
     "output_type": "stream",
     "text": [
      "Extracting ItalyPowerDemand data\n",
      "Archive:  data/ItalyPowerDemand.zip\n",
      "Downloading Lightning2 (Attempt 1/3)\n"
     ]
    },
    {
     "name": "stderr",
     "output_type": "stream",
     "text": [
      "replace data/ItalyPowerDemand.txt? [y]es, [n]o, [A]ll, [N]one, [r]ename:  NULL\n",
      "(EOF or read error, treating as \"[N]one\" ...)\n"
     ]
    },
    {
     "name": "stdout",
     "output_type": "stream",
     "text": [
      "Extracting Lightning2 data\n",
      "Archive:  data/Lightning2.zip\n",
      "Downloading Lightning7 (Attempt 1/3)\n"
     ]
    },
    {
     "name": "stderr",
     "output_type": "stream",
     "text": [
      "replace data/Lightning2.txt? [y]es, [n]o, [A]ll, [N]one, [r]ename:  NULL\n",
      "(EOF or read error, treating as \"[N]one\" ...)\n"
     ]
    },
    {
     "name": "stdout",
     "output_type": "stream",
     "text": [
      "Extracting Lightning7 data\n",
      "Archive:  data/Lightning7.zip\n",
      "Downloading Mallat (Attempt 1/3)\n"
     ]
    },
    {
     "name": "stderr",
     "output_type": "stream",
     "text": [
      "replace data/Lightning7.txt? [y]es, [n]o, [A]ll, [N]one, [r]ename:  NULL\n",
      "(EOF or read error, treating as \"[N]one\" ...)\n"
     ]
    },
    {
     "name": "stdout",
     "output_type": "stream",
     "text": [
      "Extracting Mallat data\n",
      "Archive:  data/Mallat.zip\n",
      "Downloading MedicalImages (Attempt 1/3)\n"
     ]
    },
    {
     "name": "stderr",
     "output_type": "stream",
     "text": [
      "replace data/Mallat.txt? [y]es, [n]o, [A]ll, [N]one, [r]ename:  NULL\n",
      "(EOF or read error, treating as \"[N]one\" ...)\n"
     ]
    },
    {
     "name": "stdout",
     "output_type": "stream",
     "text": [
      "Extracting MedicalImages data\n",
      "Archive:  data/MedicalImages.zip\n",
      "Downloading MoteStrain (Attempt 1/3)\n"
     ]
    },
    {
     "name": "stderr",
     "output_type": "stream",
     "text": [
      "replace data/MedicalImages.txt? [y]es, [n]o, [A]ll, [N]one, [r]ename:  NULL\n",
      "(EOF or read error, treating as \"[N]one\" ...)\n"
     ]
    },
    {
     "name": "stdout",
     "output_type": "stream",
     "text": [
      "Extracting MoteStrain data\n",
      "Archive:  data/MoteStrain.zip\n",
      "Downloading OliveOil (Attempt 1/3)\n"
     ]
    },
    {
     "name": "stderr",
     "output_type": "stream",
     "text": [
      "replace data/MoteStrain.txt? [y]es, [n]o, [A]ll, [N]one, [r]ename:  NULL\n",
      "(EOF or read error, treating as \"[N]one\" ...)\n"
     ]
    },
    {
     "name": "stdout",
     "output_type": "stream",
     "text": [
      "Extracting OliveOil data\n",
      "Archive:  data/OliveOil.zip\n",
      "Downloading OSULeaf (Attempt 1/3)\n"
     ]
    },
    {
     "name": "stderr",
     "output_type": "stream",
     "text": [
      "replace data/OliveOil.txt? [y]es, [n]o, [A]ll, [N]one, [r]ename:  NULL\n",
      "(EOF or read error, treating as \"[N]one\" ...)\n"
     ]
    },
    {
     "name": "stdout",
     "output_type": "stream",
     "text": [
      "Extracting OSULeaf data\n",
      "Archive:  data/OSULeaf.zip\n",
      "Downloading SonyAIBORobotSurface1 (Attempt 1/3)\n"
     ]
    },
    {
     "name": "stderr",
     "output_type": "stream",
     "text": [
      "replace data/OSULeaf.txt? [y]es, [n]o, [A]ll, [N]one, [r]ename:  NULL\n",
      "(EOF or read error, treating as \"[N]one\" ...)\n"
     ]
    },
    {
     "name": "stdout",
     "output_type": "stream",
     "text": [
      "Extracting SonyAIBORobotSurface1 data\n",
      "Archive:  data/SonyAIBORobotSurface1.zip\n",
      "Downloading SonyAIBORobotSurface2 (Attempt 1/3)\n"
     ]
    },
    {
     "name": "stderr",
     "output_type": "stream",
     "text": [
      "replace data/SonyAIBORobotSurface1.txt? [y]es, [n]o, [A]ll, [N]one, [r]ename:  NULL\n",
      "(EOF or read error, treating as \"[N]one\" ...)\n"
     ]
    },
    {
     "name": "stdout",
     "output_type": "stream",
     "text": [
      "Extracting SonyAIBORobotSurface2 data\n",
      "Archive:  data/SonyAIBORobotSurface2.zip\n",
      "Downloading StarLightCurves (Attempt 1/3)\n"
     ]
    },
    {
     "name": "stderr",
     "output_type": "stream",
     "text": [
      "replace data/SonyAIBORobotSurface2.txt? [y]es, [n]o, [A]ll, [N]one, [r]ename:  NULL\n",
      "(EOF or read error, treating as \"[N]one\" ...)\n"
     ]
    },
    {
     "name": "stdout",
     "output_type": "stream",
     "text": [
      "Extracting StarLightCurves data\n",
      "Archive:  data/StarLightCurves.zip\n",
      "Downloading SwedishLeaf (Attempt 1/3)\n"
     ]
    },
    {
     "name": "stderr",
     "output_type": "stream",
     "text": [
      "replace data/StarLightCurves.txt? [y]es, [n]o, [A]ll, [N]one, [r]ename:  NULL\n",
      "(EOF or read error, treating as \"[N]one\" ...)\n"
     ]
    },
    {
     "name": "stdout",
     "output_type": "stream",
     "text": [
      "Extracting SwedishLeaf data\n",
      "Archive:  data/SwedishLeaf.zip\n",
      "Downloading Symbols (Attempt 1/3)\n"
     ]
    },
    {
     "name": "stderr",
     "output_type": "stream",
     "text": [
      "replace data/SwedishLeaf.txt? [y]es, [n]o, [A]ll, [N]one, [r]ename:  NULL\n",
      "(EOF or read error, treating as \"[N]one\" ...)\n"
     ]
    },
    {
     "name": "stdout",
     "output_type": "stream",
     "text": [
      "Extracting Symbols data\n",
      "Archive:  data/Symbols.zip\n",
      "Downloading SyntheticControl (Attempt 1/3)\n"
     ]
    },
    {
     "name": "stderr",
     "output_type": "stream",
     "text": [
      "replace data/Symbols.txt? [y]es, [n]o, [A]ll, [N]one, [r]ename:  NULL\n",
      "(EOF or read error, treating as \"[N]one\" ...)\n"
     ]
    },
    {
     "name": "stdout",
     "output_type": "stream",
     "text": [
      "Extracting SyntheticControl data\n",
      "Archive:  data/SyntheticControl.zip\n",
      "Downloading Trace (Attempt 1/3)\n"
     ]
    },
    {
     "name": "stderr",
     "output_type": "stream",
     "text": [
      "replace data/SyntheticControl.txt? [y]es, [n]o, [A]ll, [N]one, [r]ename:  NULL\n",
      "(EOF or read error, treating as \"[N]one\" ...)\n"
     ]
    },
    {
     "name": "stdout",
     "output_type": "stream",
     "text": [
      "Extracting Trace data\n",
      "Archive:  data/Trace.zip\n",
      "Downloading TwoLeadECG (Attempt 1/3)\n"
     ]
    },
    {
     "name": "stderr",
     "output_type": "stream",
     "text": [
      "replace data/Trace.txt? [y]es, [n]o, [A]ll, [N]one, [r]ename:  NULL\n",
      "(EOF or read error, treating as \"[N]one\" ...)\n"
     ]
    },
    {
     "name": "stdout",
     "output_type": "stream",
     "text": [
      "Extracting TwoLeadECG data\n",
      "Archive:  data/TwoLeadECG.zip\n",
      "Downloading TwoPatterns (Attempt 1/3)\n"
     ]
    },
    {
     "name": "stderr",
     "output_type": "stream",
     "text": [
      "replace data/TwoLeadECG.txt? [y]es, [n]o, [A]ll, [N]one, [r]ename:  NULL\n",
      "(EOF or read error, treating as \"[N]one\" ...)\n"
     ]
    },
    {
     "name": "stdout",
     "output_type": "stream",
     "text": [
      "Extracting TwoPatterns data\n",
      "Archive:  data/TwoPatterns.zip\n",
      "Downloading UWaveGestureLibraryX (Attempt 1/3)\n"
     ]
    },
    {
     "name": "stderr",
     "output_type": "stream",
     "text": [
      "replace data/TwoPatterns.txt? [y]es, [n]o, [A]ll, [N]one, [r]ename:  NULL\n",
      "(EOF or read error, treating as \"[N]one\" ...)\n"
     ]
    },
    {
     "name": "stdout",
     "output_type": "stream",
     "text": [
      "Extracting UWaveGestureLibraryX data\n",
      "Archive:  data/UWaveGestureLibraryX.zip\n",
      "Downloading UWaveGestureLibraryY (Attempt 1/3)\n"
     ]
    },
    {
     "name": "stderr",
     "output_type": "stream",
     "text": [
      "replace data/UWaveGestureLibraryX.txt? [y]es, [n]o, [A]ll, [N]one, [r]ename:  NULL\n",
      "(EOF or read error, treating as \"[N]one\" ...)\n"
     ]
    },
    {
     "name": "stdout",
     "output_type": "stream",
     "text": [
      "Extracting UWaveGestureLibraryY data\n",
      "Archive:  data/UWaveGestureLibraryY.zip\n",
      "Downloading UWaveGestureLibraryZ (Attempt 1/3)\n"
     ]
    },
    {
     "name": "stderr",
     "output_type": "stream",
     "text": [
      "replace data/UWaveGestureLibraryY.txt? [y]es, [n]o, [A]ll, [N]one, [r]ename:  NULL\n",
      "(EOF or read error, treating as \"[N]one\" ...)\n"
     ]
    },
    {
     "name": "stdout",
     "output_type": "stream",
     "text": [
      "Extracting UWaveGestureLibraryZ data\n",
      "Archive:  data/UWaveGestureLibraryZ.zip\n",
      "Downloading Wafer (Attempt 1/3)\n"
     ]
    },
    {
     "name": "stderr",
     "output_type": "stream",
     "text": [
      "replace data/UWaveGestureLibraryZ.txt? [y]es, [n]o, [A]ll, [N]one, [r]ename:  NULL\n",
      "(EOF or read error, treating as \"[N]one\" ...)\n"
     ]
    },
    {
     "name": "stdout",
     "output_type": "stream",
     "text": [
      "Extracting Wafer data\n",
      "Archive:  data/Wafer.zip\n",
      "Downloading WordSynonyms (Attempt 1/3)\n"
     ]
    },
    {
     "name": "stderr",
     "output_type": "stream",
     "text": [
      "replace data/Wafer.txt? [y]es, [n]o, [A]ll, [N]one, [r]ename:  NULL\n",
      "(EOF or read error, treating as \"[N]one\" ...)\n"
     ]
    },
    {
     "name": "stdout",
     "output_type": "stream",
     "text": [
      "Extracting WordSynonyms data\n",
      "Archive:  data/WordSynonyms.zip\n",
      "Downloading Yoga (Attempt 1/3)\n"
     ]
    },
    {
     "name": "stderr",
     "output_type": "stream",
     "text": [
      "replace data/WordSynonyms.txt? [y]es, [n]o, [A]ll, [N]one, [r]ename:  NULL\n",
      "(EOF or read error, treating as \"[N]one\" ...)\n"
     ]
    },
    {
     "name": "stdout",
     "output_type": "stream",
     "text": [
      "Extracting Yoga data\n",
      "Archive:  data/Yoga.zip\n"
     ]
    },
    {
     "name": "stderr",
     "output_type": "stream",
     "text": [
      "replace data/Yoga.txt? [y]es, [n]o, [A]ll, [N]one, [r]ename:  NULL\n",
      "(EOF or read error, treating as \"[N]one\" ...)\n",
      "Processing Yoga: 100%|██████████| 42/42 [00:53<00:00,  1.27s/it]                 \n"
     ]
    }
   ],
   "source": [
    "import os\n",
    "import subprocess\n",
    "import requests\n",
    "import numpy as np\n",
    "from time import sleep \n",
    "from utils import *\n",
    "from train import *\n",
    "from MultiLayerPerceptron import *\n",
    "from ConvNet import *\n",
    "\n",
    "def download_datasets(datasets, retries=3):\n",
    "    url_base = \"http://www.timeseriesclassification.com/aeon-toolkit/\"\n",
    "    for dataset in datasets:\n",
    "        url = url_base + dataset + \".zip\"\n",
    "        zip_path = f\"data/{dataset}.zip\"\n",
    "        \n",
    "        # Retry logic for downloading\n",
    "        for attempt in range(retries):\n",
    "            try:\n",
    "                print(f\"Downloading {dataset} (Attempt {attempt+1}/{retries})\")\n",
    "                response = requests.get(url, stream=True)\n",
    "                if response.status_code == 200:\n",
    "                    with open(zip_path, 'wb') as f:\n",
    "                        for chunk in response.iter_content(chunk_size=128):\n",
    "                            f.write(chunk)\n",
    "                    break  # Exit retry loop if download is successful\n",
    "                else:\n",
    "                    print(f\"Failed to download {dataset}: {response.status_code}\")\n",
    "            except Exception as e:\n",
    "                print(f\"Error downloading {dataset}: {e}\")\n",
    "        \n",
    "        # Verify download\n",
    "        if not os.path.exists(zip_path):\n",
    "            raise FileNotFoundError(f\"Failed to download {dataset} after {retries} attempts\")\n",
    "\n",
    "        # Extract the dataset\n",
    "        print(f\"Extracting {dataset} data\")\n",
    "        subprocess.call(['unzip', zip_path, '-d', 'data/'])\n",
    "        \n",
    "        # Verify extraction\n",
    "        arff_file = f\"data/{dataset}_TRAIN.arff\"\n",
    "        if not os.path.exists(arff_file):\n",
    "            raise FileNotFoundError(f\"The file {arff_file} does not exist after extraction\")\n",
    "\n",
    "# Usage\n",
    "datasets = np.loadtxt('datasets.txt', dtype=str)\n",
    "download_datasets(datasets)  # Uncomment this to download the data\n",
    "dataset_dictionary = data_dictionary(datasets)"
   ]
  },
  {
   "cell_type": "code",
   "execution_count": 3,
   "metadata": {},
   "outputs": [
    {
     "name": "stdout",
     "output_type": "stream",
     "text": [
      "Using device: cpu\n",
      "\n",
      "Adiac\n",
      "train samples=390\ttest samples=391\ttime steps=176\tnum. classes=37\n"
     ]
    },
    {
     "name": "stderr",
     "output_type": "stream",
     "text": [
      "acc=17.65%\tcross entropy=3.1917: 100%|██████████| 10/10 [00:02<00:00,  4.63it/s]\n"
     ]
    },
    {
     "name": "stdout",
     "output_type": "stream",
     "text": [
      "MPCE: 2.9908\n"
     ]
    },
    {
     "name": "stderr",
     "output_type": "stream",
     "text": [
      "acc=21.74%\tcross entropy=3.1138: 100%|██████████| 10/10 [00:22<00:00,  2.29s/it]\n"
     ]
    },
    {
     "name": "stdout",
     "output_type": "stream",
     "text": [
      "MPCE: 2.6124\n",
      "\n",
      "Beef\n",
      "train samples=30\ttest samples=30\ttime steps=470\tnum. classes=5\n"
     ]
    },
    {
     "name": "stderr",
     "output_type": "stream",
     "text": [
      "acc=40.00%\tcross entropy=1.4133: 100%|██████████| 10/10 [00:00<00:00, 11.06it/s]\n"
     ]
    },
    {
     "name": "stdout",
     "output_type": "stream",
     "text": [
      "MPCE: 0.9772\n"
     ]
    },
    {
     "name": "stderr",
     "output_type": "stream",
     "text": [
      "acc=36.67%\tcross entropy=1.5661: 100%|██████████| 10/10 [00:06<00:00,  1.54it/s]\n"
     ]
    },
    {
     "name": "stdout",
     "output_type": "stream",
     "text": [
      "MPCE: 1.3620\n",
      "\n",
      "CBF\n",
      "train samples=30\ttest samples=900\ttime steps=128\tnum. classes=3\n"
     ]
    },
    {
     "name": "stderr",
     "output_type": "stream",
     "text": [
      "acc=62.78%\tcross entropy=0.8198: 100%|██████████| 10/10 [00:03<00:00,  2.60it/s]\n"
     ]
    },
    {
     "name": "stdout",
     "output_type": "stream",
     "text": [
      "MPCE: 0.7955\n"
     ]
    },
    {
     "name": "stderr",
     "output_type": "stream",
     "text": [
      "acc=64.00%\tcross entropy=0.7854: 100%|██████████| 10/10 [00:20<00:00,  2.01s/it]\n"
     ]
    },
    {
     "name": "stdout",
     "output_type": "stream",
     "text": [
      "MPCE: 0.6339\n",
      "\n",
      "ChlorineConcentration\n",
      "train samples=467\ttest samples=3840\ttime steps=166\tnum. classes=3\n"
     ]
    },
    {
     "name": "stderr",
     "output_type": "stream",
     "text": [
      "acc=45.44%\tcross entropy=1.0265: 100%|██████████| 10/10 [00:09<00:00,  1.10it/s]\n"
     ]
    },
    {
     "name": "stdout",
     "output_type": "stream",
     "text": [
      "MPCE: 1.0183\n"
     ]
    },
    {
     "name": "stderr",
     "output_type": "stream",
     "text": [
      "acc=57.42%\tcross entropy=0.9583: 100%|██████████| 10/10 [01:40<00:00, 10.08s/it]\n"
     ]
    },
    {
     "name": "stdout",
     "output_type": "stream",
     "text": [
      "MPCE: 0.9453\n",
      "\n",
      "CinCECGTorso\n",
      "train samples=40\ttest samples=1380\ttime steps=1639\tnum. classes=4\n"
     ]
    },
    {
     "name": "stderr",
     "output_type": "stream",
     "text": [
      "acc=33.12%\tcross entropy=1.3154: 100%|██████████| 10/10 [00:09<00:00,  1.10it/s]\n"
     ]
    },
    {
     "name": "stdout",
     "output_type": "stream",
     "text": [
      "MPCE: 1.2636\n"
     ]
    },
    {
     "name": "stderr",
     "output_type": "stream",
     "text": [
      "acc=52.39%\tcross entropy=1.1382: 100%|██████████| 10/10 [03:22<00:00, 20.26s/it]\n"
     ]
    },
    {
     "name": "stdout",
     "output_type": "stream",
     "text": [
      "MPCE: 1.0479\n",
      "\n",
      "Coffee\n",
      "train samples=28\ttest samples=28\ttime steps=286\tnum. classes=2\n"
     ]
    },
    {
     "name": "stderr",
     "output_type": "stream",
     "text": [
      "acc=78.57%\tcross entropy=0.3686: 100%|██████████| 10/10 [00:01<00:00,  7.91it/s]\n"
     ]
    },
    {
     "name": "stdout",
     "output_type": "stream",
     "text": [
      "MPCE: 0.2301\n"
     ]
    },
    {
     "name": "stderr",
     "output_type": "stream",
     "text": [
      "acc=64.29%\tcross entropy=0.6842: 100%|██████████| 10/10 [00:08<00:00,  1.17it/s]\n"
     ]
    },
    {
     "name": "stdout",
     "output_type": "stream",
     "text": [
      "MPCE: 0.6542\n",
      "\n",
      "CricketX\n",
      "train samples=390\ttest samples=390\ttime steps=300\tnum. classes=12\n"
     ]
    },
    {
     "name": "stderr",
     "output_type": "stream",
     "text": [
      "acc=27.18%\tcross entropy=2.2501: 100%|██████████| 10/10 [00:02<00:00,  3.36it/s]\n"
     ]
    },
    {
     "name": "stdout",
     "output_type": "stream",
     "text": [
      "MPCE: 2.0356\n"
     ]
    },
    {
     "name": "stderr",
     "output_type": "stream",
     "text": [
      "acc=40.00%\tcross entropy=2.0775: 100%|██████████| 10/10 [00:39<00:00,  3.99s/it]\n"
     ]
    },
    {
     "name": "stdout",
     "output_type": "stream",
     "text": [
      "MPCE: 1.7513\n",
      "\n",
      "CricketY\n",
      "train samples=390\ttest samples=390\ttime steps=300\tnum. classes=12\n"
     ]
    },
    {
     "name": "stderr",
     "output_type": "stream",
     "text": [
      "acc=27.69%\tcross entropy=2.1588: 100%|██████████| 10/10 [00:02<00:00,  4.07it/s]\n"
     ]
    },
    {
     "name": "stdout",
     "output_type": "stream",
     "text": [
      "MPCE: 1.9844\n"
     ]
    },
    {
     "name": "stderr",
     "output_type": "stream",
     "text": [
      "acc=41.03%\tcross entropy=2.0751: 100%|██████████| 10/10 [00:37<00:00,  3.79s/it]\n"
     ]
    },
    {
     "name": "stdout",
     "output_type": "stream",
     "text": [
      "MPCE: 1.7993\n",
      "\n",
      "CricketZ\n",
      "train samples=390\ttest samples=390\ttime steps=300\tnum. classes=12\n"
     ]
    },
    {
     "name": "stderr",
     "output_type": "stream",
     "text": [
      "acc=29.23%\tcross entropy=2.1588: 100%|██████████| 10/10 [00:02<00:00,  3.47it/s]\n"
     ]
    },
    {
     "name": "stdout",
     "output_type": "stream",
     "text": [
      "MPCE: 2.0288\n"
     ]
    },
    {
     "name": "stderr",
     "output_type": "stream",
     "text": [
      "acc=37.95%\tcross entropy=2.0981: 100%|██████████| 10/10 [00:36<00:00,  3.66s/it]\n"
     ]
    },
    {
     "name": "stdout",
     "output_type": "stream",
     "text": [
      "MPCE: 2.0161\n",
      "\n",
      "DiatomSizeReduction\n",
      "train samples=16\ttest samples=306\ttime steps=345\tnum. classes=4\n"
     ]
    },
    {
     "name": "stderr",
     "output_type": "stream",
     "text": [
      "acc=68.95%\tcross entropy=0.7362: 100%|██████████| 10/10 [00:04<00:00,  2.05it/s]\n"
     ]
    },
    {
     "name": "stdout",
     "output_type": "stream",
     "text": [
      "MPCE: 0.5846\n"
     ]
    },
    {
     "name": "stderr",
     "output_type": "stream",
     "text": [
      "acc=54.90%\tcross entropy=1.1789: 100%|██████████| 10/10 [00:20<00:00,  2.02s/it]\n"
     ]
    },
    {
     "name": "stdout",
     "output_type": "stream",
     "text": [
      "MPCE: 1.3662\n",
      "\n",
      "ECGFiveDays\n",
      "train samples=23\ttest samples=861\ttime steps=136\tnum. classes=2\n"
     ]
    },
    {
     "name": "stderr",
     "output_type": "stream",
     "text": [
      "acc=72.94%\tcross entropy=0.4907: 100%|██████████| 10/10 [00:16<00:00,  1.62s/it]\n"
     ]
    },
    {
     "name": "stdout",
     "output_type": "stream",
     "text": [
      "MPCE: 0.4856\n"
     ]
    },
    {
     "name": "stderr",
     "output_type": "stream",
     "text": [
      "acc=61.44%\tcross entropy=0.6347: 100%|██████████| 10/10 [00:33<00:00,  3.39s/it]\n"
     ]
    },
    {
     "name": "stdout",
     "output_type": "stream",
     "text": [
      "MPCE: 0.6042\n",
      "\n",
      "FaceAll\n",
      "train samples=560\ttest samples=1690\ttime steps=131\tnum. classes=14\n"
     ]
    },
    {
     "name": "stderr",
     "output_type": "stream",
     "text": [
      "acc=27.46%\tcross entropy=2.2950: 100%|██████████| 10/10 [00:06<00:00,  1.43it/s]\n"
     ]
    },
    {
     "name": "stdout",
     "output_type": "stream",
     "text": [
      "MPCE: 1.3693\n"
     ]
    },
    {
     "name": "stderr",
     "output_type": "stream",
     "text": [
      "acc=21.89%\tcross entropy=2.5722: 100%|██████████| 10/10 [00:57<00:00,  5.79s/it]\n"
     ]
    },
    {
     "name": "stdout",
     "output_type": "stream",
     "text": [
      "MPCE: 2.2618\n",
      "\n",
      "FaceFour\n",
      "train samples=24\ttest samples=88\ttime steps=350\tnum. classes=4\n"
     ]
    },
    {
     "name": "stderr",
     "output_type": "stream",
     "text": [
      "acc=61.36%\tcross entropy=0.9224: 100%|██████████| 10/10 [00:02<00:00,  4.80it/s]\n"
     ]
    },
    {
     "name": "stdout",
     "output_type": "stream",
     "text": [
      "MPCE: 0.9155\n"
     ]
    },
    {
     "name": "stderr",
     "output_type": "stream",
     "text": [
      "acc=30.68%\tcross entropy=1.3040: 100%|██████████| 10/10 [00:08<00:00,  1.19it/s]\n"
     ]
    },
    {
     "name": "stdout",
     "output_type": "stream",
     "text": [
      "MPCE: 1.0061\n",
      "\n",
      "FacesUCR\n",
      "train samples=200\ttest samples=2050\ttime steps=131\tnum. classes=14\n"
     ]
    },
    {
     "name": "stderr",
     "output_type": "stream",
     "text": [
      "acc=38.00%\tcross entropy=2.2420: 100%|██████████| 10/10 [00:04<00:00,  2.10it/s]\n"
     ]
    },
    {
     "name": "stdout",
     "output_type": "stream",
     "text": [
      "MPCE: 2.1058\n"
     ]
    },
    {
     "name": "stderr",
     "output_type": "stream",
     "text": [
      "acc=32.20%\tcross entropy=2.1481: 100%|██████████| 10/10 [00:31<00:00,  3.11s/it]\n"
     ]
    },
    {
     "name": "stdout",
     "output_type": "stream",
     "text": [
      "MPCE: 1.9017\n",
      "\n",
      "FiftyWords\n",
      "train samples=450\ttest samples=455\ttime steps=270\tnum. classes=50\n"
     ]
    },
    {
     "name": "stderr",
     "output_type": "stream",
     "text": [
      "acc=35.60%\tcross entropy=2.8764: 100%|██████████| 10/10 [00:02<00:00,  4.29it/s]\n"
     ]
    },
    {
     "name": "stdout",
     "output_type": "stream",
     "text": [
      "MPCE: 2.2388\n"
     ]
    },
    {
     "name": "stderr",
     "output_type": "stream",
     "text": [
      "acc=23.52%\tcross entropy=3.2475: 100%|██████████| 10/10 [00:42<00:00,  4.25s/it]\n"
     ]
    },
    {
     "name": "stdout",
     "output_type": "stream",
     "text": [
      "MPCE: 2.4101\n",
      "\n",
      "Fish\n",
      "train samples=175\ttest samples=175\ttime steps=463\tnum. classes=7\n"
     ]
    },
    {
     "name": "stderr",
     "output_type": "stream",
     "text": [
      "acc=55.43%\tcross entropy=1.2960: 100%|██████████| 10/10 [00:01<00:00,  7.17it/s]\n"
     ]
    },
    {
     "name": "stdout",
     "output_type": "stream",
     "text": [
      "MPCE: 1.2274\n"
     ]
    },
    {
     "name": "stderr",
     "output_type": "stream",
     "text": [
      "acc=34.29%\tcross entropy=1.7237: 100%|██████████| 10/10 [00:23<00:00,  2.33s/it]\n"
     ]
    },
    {
     "name": "stdout",
     "output_type": "stream",
     "text": [
      "MPCE: 1.6937\n",
      "\n",
      "GunPoint\n",
      "train samples=50\ttest samples=150\ttime steps=150\tnum. classes=2\n"
     ]
    },
    {
     "name": "stderr",
     "output_type": "stream",
     "text": [
      "acc=62.00%\tcross entropy=0.5678: 100%|██████████| 10/10 [00:01<00:00,  6.82it/s]\n"
     ]
    },
    {
     "name": "stdout",
     "output_type": "stream",
     "text": [
      "MPCE: 0.5518\n"
     ]
    },
    {
     "name": "stderr",
     "output_type": "stream",
     "text": [
      "acc=82.00%\tcross entropy=0.4354: 100%|██████████| 10/10 [00:05<00:00,  1.77it/s]\n"
     ]
    },
    {
     "name": "stdout",
     "output_type": "stream",
     "text": [
      "MPCE: 0.4040\n",
      "\n",
      "Haptics\n",
      "train samples=155\ttest samples=308\ttime steps=1092\tnum. classes=5\n"
     ]
    },
    {
     "name": "stderr",
     "output_type": "stream",
     "text": [
      "acc=40.26%\tcross entropy=1.4626: 100%|██████████| 10/10 [00:01<00:00,  7.58it/s]\n"
     ]
    },
    {
     "name": "stdout",
     "output_type": "stream",
     "text": [
      "MPCE: 1.3203\n"
     ]
    },
    {
     "name": "stderr",
     "output_type": "stream",
     "text": [
      "acc=33.12%\tcross entropy=1.5481: 100%|██████████| 10/10 [01:04<00:00,  6.40s/it]\n"
     ]
    },
    {
     "name": "stdout",
     "output_type": "stream",
     "text": [
      "MPCE: 1.4186\n",
      "\n",
      "InlineSkate\n",
      "train samples=100\ttest samples=550\ttime steps=1882\tnum. classes=7\n"
     ]
    },
    {
     "name": "stderr",
     "output_type": "stream",
     "text": [
      "acc=19.45%\tcross entropy=1.9962: 100%|██████████| 10/10 [00:03<00:00,  3.21it/s]\n"
     ]
    },
    {
     "name": "stdout",
     "output_type": "stream",
     "text": [
      "MPCE: 1.9974\n"
     ]
    },
    {
     "name": "stderr",
     "output_type": "stream",
     "text": [
      "acc=19.09%\tcross entropy=1.8383: 100%|██████████| 10/10 [01:48<00:00, 10.83s/it]\n"
     ]
    },
    {
     "name": "stdout",
     "output_type": "stream",
     "text": [
      "MPCE: 1.7068\n",
      "\n",
      "ItalyPowerDemand\n",
      "train samples=67\ttest samples=1029\ttime steps=24\tnum. classes=2\n"
     ]
    },
    {
     "name": "stderr",
     "output_type": "stream",
     "text": [
      "acc=77.55%\tcross entropy=0.3569: 100%|██████████| 10/10 [00:02<00:00,  3.46it/s]\n"
     ]
    },
    {
     "name": "stdout",
     "output_type": "stream",
     "text": [
      "MPCE: 0.3434\n"
     ]
    },
    {
     "name": "stderr",
     "output_type": "stream",
     "text": [
      "acc=85.23%\tcross entropy=0.3631: 100%|██████████| 10/10 [00:09<00:00,  1.11it/s]\n"
     ]
    },
    {
     "name": "stdout",
     "output_type": "stream",
     "text": [
      "MPCE: 0.3437\n",
      "\n",
      "Lightning2\n",
      "train samples=60\ttest samples=61\ttime steps=637\tnum. classes=2\n"
     ]
    },
    {
     "name": "stderr",
     "output_type": "stream",
     "text": [
      "acc=59.02%\tcross entropy=0.5944: 100%|██████████| 10/10 [00:00<00:00, 12.55it/s]\n"
     ]
    },
    {
     "name": "stdout",
     "output_type": "stream",
     "text": [
      "MPCE: 0.5594\n"
     ]
    },
    {
     "name": "stderr",
     "output_type": "stream",
     "text": [
      "acc=59.02%\tcross entropy=0.6117: 100%|██████████| 10/10 [00:14<00:00,  1.42s/it]\n"
     ]
    },
    {
     "name": "stdout",
     "output_type": "stream",
     "text": [
      "MPCE: 0.6488\n",
      "\n",
      "Lightning7\n",
      "train samples=70\ttest samples=73\ttime steps=319\tnum. classes=7\n"
     ]
    },
    {
     "name": "stderr",
     "output_type": "stream",
     "text": [
      "acc=32.88%\tcross entropy=1.7775: 100%|██████████| 10/10 [00:00<00:00, 15.15it/s]\n"
     ]
    },
    {
     "name": "stdout",
     "output_type": "stream",
     "text": [
      "MPCE: 1.7072\n"
     ]
    },
    {
     "name": "stderr",
     "output_type": "stream",
     "text": [
      "acc=47.95%\tcross entropy=1.6302: 100%|██████████| 10/10 [00:12<00:00,  1.21s/it]\n"
     ]
    },
    {
     "name": "stdout",
     "output_type": "stream",
     "text": [
      "MPCE: 1.5163\n",
      "\n",
      "Mallat\n",
      "train samples=55\ttest samples=2345\ttime steps=1024\tnum. classes=8\n"
     ]
    },
    {
     "name": "stderr",
     "output_type": "stream",
     "text": [
      "acc=52.62%\tcross entropy=1.3640: 100%|██████████| 10/10 [00:10<00:00,  1.09s/it]\n"
     ]
    },
    {
     "name": "stdout",
     "output_type": "stream",
     "text": [
      "MPCE: 1.4413\n"
     ]
    },
    {
     "name": "stderr",
     "output_type": "stream",
     "text": [
      "acc=37.31%\tcross entropy=1.7906: 100%|██████████| 10/10 [03:26<00:00, 20.64s/it]\n"
     ]
    },
    {
     "name": "stdout",
     "output_type": "stream",
     "text": [
      "MPCE: 1.6913\n",
      "\n",
      "MedicalImages\n",
      "train samples=381\ttest samples=760\ttime steps=99\tnum. classes=10\n"
     ]
    },
    {
     "name": "stderr",
     "output_type": "stream",
     "text": [
      "acc=45.00%\tcross entropy=1.7273: 100%|██████████| 10/10 [00:04<00:00,  2.35it/s]\n"
     ]
    },
    {
     "name": "stdout",
     "output_type": "stream",
     "text": [
      "MPCE: 1.8870\n"
     ]
    },
    {
     "name": "stderr",
     "output_type": "stream",
     "text": [
      "acc=53.29%\tcross entropy=1.4432: 100%|██████████| 10/10 [00:20<00:00,  2.06s/it]\n"
     ]
    },
    {
     "name": "stdout",
     "output_type": "stream",
     "text": [
      "MPCE: 1.4789\n",
      "\n",
      "MoteStrain\n",
      "train samples=20\ttest samples=1252\ttime steps=84\tnum. classes=2\n"
     ]
    },
    {
     "name": "stderr",
     "output_type": "stream",
     "text": [
      "acc=72.52%\tcross entropy=0.4955: 100%|██████████| 10/10 [00:11<00:00,  1.15s/it]\n"
     ]
    },
    {
     "name": "stdout",
     "output_type": "stream",
     "text": [
      "MPCE: 0.5059\n"
     ]
    },
    {
     "name": "stderr",
     "output_type": "stream",
     "text": [
      "acc=67.49%\tcross entropy=0.6175: 100%|██████████| 10/10 [00:28<00:00,  2.80s/it]\n"
     ]
    },
    {
     "name": "stdout",
     "output_type": "stream",
     "text": [
      "MPCE: 0.5410\n",
      "\n",
      "OliveOil\n",
      "train samples=30\ttest samples=30\ttime steps=570\tnum. classes=4\n"
     ]
    },
    {
     "name": "stderr",
     "output_type": "stream",
     "text": [
      "acc=43.33%\tcross entropy=1.0173: 100%|██████████| 10/10 [00:00<00:00, 11.26it/s]\n"
     ]
    },
    {
     "name": "stdout",
     "output_type": "stream",
     "text": [
      "MPCE: 0.8759\n"
     ]
    },
    {
     "name": "stderr",
     "output_type": "stream",
     "text": [
      "acc=46.67%\tcross entropy=1.3223: 100%|██████████| 10/10 [00:08<00:00,  1.15it/s]\n"
     ]
    },
    {
     "name": "stdout",
     "output_type": "stream",
     "text": [
      "MPCE: 1.3533\n",
      "\n",
      "OSULeaf\n",
      "train samples=200\ttest samples=242\ttime steps=427\tnum. classes=6\n"
     ]
    },
    {
     "name": "stderr",
     "output_type": "stream",
     "text": [
      "acc=29.75%\tcross entropy=1.7289: 100%|██████████| 10/10 [00:02<00:00,  4.96it/s]\n"
     ]
    },
    {
     "name": "stdout",
     "output_type": "stream",
     "text": [
      "MPCE: 1.7415\n"
     ]
    },
    {
     "name": "stderr",
     "output_type": "stream",
     "text": [
      "acc=56.61%\tcross entropy=1.2599: 100%|██████████| 10/10 [00:27<00:00,  2.79s/it]\n"
     ]
    },
    {
     "name": "stdout",
     "output_type": "stream",
     "text": [
      "MPCE: 1.2627\n",
      "\n",
      "SonyAIBORobotSurface1\n",
      "train samples=20\ttest samples=601\ttime steps=70\tnum. classes=2\n"
     ]
    },
    {
     "name": "stderr",
     "output_type": "stream",
     "text": [
      "acc=59.57%\tcross entropy=0.6402: 100%|██████████| 10/10 [00:05<00:00,  1.97it/s]\n"
     ]
    },
    {
     "name": "stdout",
     "output_type": "stream",
     "text": [
      "MPCE: 0.6629\n"
     ]
    },
    {
     "name": "stderr",
     "output_type": "stream",
     "text": [
      "acc=69.38%\tcross entropy=0.5783: 100%|██████████| 10/10 [00:14<00:00,  1.50s/it]\n"
     ]
    },
    {
     "name": "stdout",
     "output_type": "stream",
     "text": [
      "MPCE: 0.3667\n",
      "\n",
      "SonyAIBORobotSurface2\n",
      "train samples=27\ttest samples=953\ttime steps=65\tnum. classes=2\n"
     ]
    },
    {
     "name": "stderr",
     "output_type": "stream",
     "text": [
      "acc=66.84%\tcross entropy=0.4994: 100%|██████████| 10/10 [00:08<00:00,  1.19it/s]\n"
     ]
    },
    {
     "name": "stdout",
     "output_type": "stream",
     "text": [
      "MPCE: 0.4965\n"
     ]
    },
    {
     "name": "stderr",
     "output_type": "stream",
     "text": [
      "acc=74.92%\tcross entropy=0.5841: 100%|██████████| 10/10 [00:20<00:00,  2.08s/it]\n"
     ]
    },
    {
     "name": "stdout",
     "output_type": "stream",
     "text": [
      "MPCE: 0.4801\n",
      "\n",
      "StarLightCurves\n",
      "train samples=1000\ttest samples=8236\ttime steps=1024\tnum. classes=3\n"
     ]
    },
    {
     "name": "stderr",
     "output_type": "stream",
     "text": [
      "acc=65.18%\tcross entropy=0.5406: 100%|██████████| 10/10 [00:25<00:00,  2.53s/it]\n"
     ]
    },
    {
     "name": "stdout",
     "output_type": "stream",
     "text": [
      "MPCE: 0.5216\n"
     ]
    },
    {
     "name": "stderr",
     "output_type": "stream",
     "text": [
      "acc=82.10%\tcross entropy=0.4848: 100%|██████████| 10/10 [14:52<00:00, 89.23s/it]\n"
     ]
    },
    {
     "name": "stdout",
     "output_type": "stream",
     "text": [
      "MPCE: 0.4495\n",
      "\n",
      "SwedishLeaf\n",
      "train samples=500\ttest samples=625\ttime steps=128\tnum. classes=15\n"
     ]
    },
    {
     "name": "stderr",
     "output_type": "stream",
     "text": [
      "acc=45.44%\tcross entropy=1.8865: 100%|██████████| 10/10 [00:04<00:00,  2.34it/s]\n"
     ]
    },
    {
     "name": "stdout",
     "output_type": "stream",
     "text": [
      "MPCE: 1.7749\n"
     ]
    },
    {
     "name": "stderr",
     "output_type": "stream",
     "text": [
      "acc=51.68%\tcross entropy=1.8628: 100%|██████████| 10/10 [00:31<00:00,  3.18s/it]\n"
     ]
    },
    {
     "name": "stdout",
     "output_type": "stream",
     "text": [
      "MPCE: 1.5504\n",
      "\n",
      "Symbols\n",
      "train samples=25\ttest samples=995\ttime steps=398\tnum. classes=6\n"
     ]
    },
    {
     "name": "stderr",
     "output_type": "stream",
     "text": [
      "acc=51.36%\tcross entropy=1.1421: 100%|██████████| 10/10 [00:09<00:00,  1.07it/s]\n"
     ]
    },
    {
     "name": "stdout",
     "output_type": "stream",
     "text": [
      "MPCE: 1.0428\n"
     ]
    },
    {
     "name": "stderr",
     "output_type": "stream",
     "text": [
      "acc=39.80%\tcross entropy=1.6059: 100%|██████████| 10/10 [01:08<00:00,  6.86s/it]\n"
     ]
    },
    {
     "name": "stdout",
     "output_type": "stream",
     "text": [
      "MPCE: 1.4877\n",
      "\n",
      "SyntheticControl\n",
      "train samples=300\ttest samples=300\ttime steps=60\tnum. classes=6\n"
     ]
    },
    {
     "name": "stderr",
     "output_type": "stream",
     "text": [
      "acc=49.67%\tcross entropy=1.3189: 100%|██████████| 10/10 [00:01<00:00,  6.32it/s]\n"
     ]
    },
    {
     "name": "stdout",
     "output_type": "stream",
     "text": [
      "MPCE: 1.5408\n"
     ]
    },
    {
     "name": "stderr",
     "output_type": "stream",
     "text": [
      "acc=42.00%\tcross entropy=1.6460: 100%|██████████| 10/10 [00:16<00:00,  1.67s/it]\n"
     ]
    },
    {
     "name": "stdout",
     "output_type": "stream",
     "text": [
      "MPCE: 1.4240\n",
      "\n",
      "Trace\n",
      "train samples=100\ttest samples=100\ttime steps=275\tnum. classes=4\n"
     ]
    },
    {
     "name": "stderr",
     "output_type": "stream",
     "text": [
      "acc=60.00%\tcross entropy=0.9857: 100%|██████████| 10/10 [00:00<00:00, 10.02it/s]\n"
     ]
    },
    {
     "name": "stdout",
     "output_type": "stream",
     "text": [
      "MPCE: 0.8812\n"
     ]
    },
    {
     "name": "stderr",
     "output_type": "stream",
     "text": [
      "acc=77.00%\tcross entropy=0.9353: 100%|██████████| 10/10 [00:12<00:00,  1.21s/it]\n"
     ]
    },
    {
     "name": "stdout",
     "output_type": "stream",
     "text": [
      "MPCE: 0.8952\n",
      "\n",
      "TwoLeadECG\n",
      "train samples=23\ttest samples=1139\ttime steps=82\tnum. classes=2\n"
     ]
    },
    {
     "name": "stderr",
     "output_type": "stream",
     "text": [
      "acc=66.02%\tcross entropy=0.5745: 100%|██████████| 10/10 [00:12<00:00,  1.28s/it]\n"
     ]
    },
    {
     "name": "stdout",
     "output_type": "stream",
     "text": [
      "MPCE: 0.5519\n"
     ]
    },
    {
     "name": "stderr",
     "output_type": "stream",
     "text": [
      "acc=55.84%\tcross entropy=0.7170: 100%|██████████| 10/10 [01:14<00:00,  7.44s/it]\n"
     ]
    },
    {
     "name": "stdout",
     "output_type": "stream",
     "text": [
      "MPCE: 0.6778\n",
      "\n",
      "TwoPatterns\n",
      "train samples=1000\ttest samples=4000\ttime steps=128\tnum. classes=4\n"
     ]
    },
    {
     "name": "stderr",
     "output_type": "stream",
     "text": [
      "acc=59.85%\tcross entropy=0.9425: 100%|██████████| 10/10 [00:13<00:00,  1.39s/it]\n"
     ]
    },
    {
     "name": "stdout",
     "output_type": "stream",
     "text": [
      "MPCE: 0.9433\n"
     ]
    },
    {
     "name": "stderr",
     "output_type": "stream",
     "text": [
      "acc=98.42%\tcross entropy=0.5137: 100%|██████████| 10/10 [01:28<00:00,  8.84s/it]\n"
     ]
    },
    {
     "name": "stdout",
     "output_type": "stream",
     "text": [
      "MPCE: 0.4776\n",
      "\n",
      "UWaveGestureLibraryX\n",
      "train samples=896\ttest samples=3582\ttime steps=315\tnum. classes=8\n"
     ]
    },
    {
     "name": "stderr",
     "output_type": "stream",
     "text": [
      "acc=53.07%\tcross entropy=1.2986: 100%|██████████| 10/10 [00:15<00:00,  1.60s/it]\n"
     ]
    },
    {
     "name": "stdout",
     "output_type": "stream",
     "text": [
      "MPCE: 1.2691\n"
     ]
    },
    {
     "name": "stderr",
     "output_type": "stream",
     "text": [
      "acc=61.06%\tcross entropy=1.5329: 100%|██████████| 10/10 [02:54<00:00, 17.41s/it]\n"
     ]
    },
    {
     "name": "stdout",
     "output_type": "stream",
     "text": [
      "MPCE: 1.4765\n",
      "\n",
      "UWaveGestureLibraryY\n",
      "train samples=896\ttest samples=3582\ttime steps=315\tnum. classes=8\n"
     ]
    },
    {
     "name": "stderr",
     "output_type": "stream",
     "text": [
      "acc=43.22%\tcross entropy=1.5583: 100%|██████████| 10/10 [00:17<00:00,  1.73s/it]\n"
     ]
    },
    {
     "name": "stdout",
     "output_type": "stream",
     "text": [
      "MPCE: 1.5458\n"
     ]
    },
    {
     "name": "stderr",
     "output_type": "stream",
     "text": [
      "acc=50.36%\tcross entropy=1.5338: 100%|██████████| 10/10 [02:54<00:00, 17.49s/it]\n"
     ]
    },
    {
     "name": "stdout",
     "output_type": "stream",
     "text": [
      "MPCE: 1.4738\n",
      "\n",
      "UWaveGestureLibraryZ\n",
      "train samples=896\ttest samples=3582\ttime steps=315\tnum. classes=8\n"
     ]
    },
    {
     "name": "stderr",
     "output_type": "stream",
     "text": [
      "acc=50.67%\tcross entropy=1.4105: 100%|██████████| 10/10 [00:12<00:00,  1.24s/it]\n"
     ]
    },
    {
     "name": "stdout",
     "output_type": "stream",
     "text": [
      "MPCE: 1.3604\n"
     ]
    },
    {
     "name": "stderr",
     "output_type": "stream",
     "text": [
      "acc=54.30%\tcross entropy=1.5191: 100%|██████████| 10/10 [02:54<00:00, 17.44s/it]\n"
     ]
    },
    {
     "name": "stdout",
     "output_type": "stream",
     "text": [
      "MPCE: 1.4526\n",
      "\n",
      "Wafer\n",
      "train samples=1000\ttest samples=6164\ttime steps=152\tnum. classes=2\n"
     ]
    },
    {
     "name": "stderr",
     "output_type": "stream",
     "text": [
      "acc=71.90%\tcross entropy=0.2708: 100%|██████████| 10/10 [00:14<00:00,  1.42s/it]\n"
     ]
    },
    {
     "name": "stdout",
     "output_type": "stream",
     "text": [
      "MPCE: 0.2816\n"
     ]
    },
    {
     "name": "stderr",
     "output_type": "stream",
     "text": [
      "acc=95.52%\tcross entropy=0.1419: 100%|██████████| 10/10 [02:03<00:00, 12.39s/it]\n"
     ]
    },
    {
     "name": "stdout",
     "output_type": "stream",
     "text": [
      "MPCE: 0.1286\n",
      "\n",
      "WordSynonyms\n",
      "train samples=267\ttest samples=638\ttime steps=270\tnum. classes=25\n"
     ]
    },
    {
     "name": "stderr",
     "output_type": "stream",
     "text": [
      "acc=29.62%\tcross entropy=2.6045: 100%|██████████| 10/10 [00:02<00:00,  4.84it/s]\n"
     ]
    },
    {
     "name": "stdout",
     "output_type": "stream",
     "text": [
      "MPCE: 2.6368\n"
     ]
    },
    {
     "name": "stderr",
     "output_type": "stream",
     "text": [
      "acc=27.27%\tcross entropy=2.7107: 100%|██████████| 10/10 [00:31<00:00,  3.12s/it]\n"
     ]
    },
    {
     "name": "stdout",
     "output_type": "stream",
     "text": [
      "MPCE: 2.5920\n",
      "\n",
      "Yoga\n",
      "train samples=300\ttest samples=3000\ttime steps=426\tnum. classes=2\n"
     ]
    },
    {
     "name": "stderr",
     "output_type": "stream",
     "text": [
      "acc=61.10%\tcross entropy=0.6360: 100%|██████████| 10/10 [00:06<00:00,  1.64it/s]\n"
     ]
    },
    {
     "name": "stdout",
     "output_type": "stream",
     "text": [
      "MPCE: 0.6301\n"
     ]
    },
    {
     "name": "stderr",
     "output_type": "stream",
     "text": [
      "acc=62.93%\tcross entropy=0.6494: 100%|██████████| 10/10 [01:47<00:00, 10.78s/it]\n"
     ]
    },
    {
     "name": "stdout",
     "output_type": "stream",
     "text": [
      "MPCE: 0.6418\n",
      "\n"
     ]
    }
   ],
   "source": [
    "from train import *\n",
    "from MultiLayerPerceptron import *\n",
    "from ConvNet import *\n",
    "# training loop\n",
    "epochs = 10\n",
    "device = torch.device('cuda:0' if torch.cuda.is_available() else 'cpu')\n",
    "print('Using device: {}\\n'.format(device))\n",
    "\n",
    "for dataset,dataloader in dataset_dictionary.items():\n",
    "\n",
    "    # setting up\n",
    "    print_dataset_info(dataset,dataloader)\n",
    "    sleep(1)\n",
    "    \n",
    "    time_steps = dataloader['test'].dataset.x.shape[-1]\n",
    "    n_classes  = len(np.unique(dataloader['test'].dataset.y))\n",
    "    \n",
    "    learning_rate = 0.0001\n",
    "    \n",
    "    # MLP\n",
    "    model = MultiLayerPerceptron(time_steps,n_classes)\n",
    "    if torch.cuda.device_count() > 0:\n",
    "        model = nn.DataParallel(model)\n",
    "    model.to(device)\n",
    "    model, history = train(dataloader['train'],\n",
    "                           dataloader['test'],\n",
    "                           device, model,\n",
    "                           epochs, learning_rate,\n",
    "                           save=False)\n",
    "    print('MPCE: {0:.4f}'.format(mpce(model,dataloader['test'],device)))\n",
    "    sleep(1)\n",
    "    \n",
    "    # ConvNet\n",
    "    model = ConvNet(time_steps,n_classes)\n",
    "    if torch.cuda.device_count() > 0:\n",
    "        model = nn.DataParallel(model)\n",
    "    model.to(device)\n",
    "\n",
    "    model, history = train(dataloader['train'],\n",
    "                           dataloader['test'],\n",
    "                           device, model,\n",
    "                           epochs, learning_rate,\n",
    "                           save=False)\n",
    "    print('MPCE: {0:.4f}'.format(mpce(model,dataloader['test'],device)))\n",
    "    print()"
   ]
  },
  {
   "cell_type": "code",
   "execution_count": null,
   "metadata": {},
   "outputs": [],
   "source": []
  }
 ],
 "metadata": {
  "kernelspec": {
   "display_name": "Python 3 (ipykernel)",
   "language": "python",
   "name": "python3"
  },
  "language_info": {
   "codemirror_mode": {
    "name": "ipython",
    "version": 3
   },
   "file_extension": ".py",
   "mimetype": "text/x-python",
   "name": "python",
   "nbconvert_exporter": "python",
   "pygments_lexer": "ipython3",
   "version": "3.11.6"
  }
 },
 "nbformat": 4,
 "nbformat_minor": 4
}
